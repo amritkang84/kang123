{
  "metadata": {
    "language_info": {
      "codemirror_mode": {
        "name": "python",
        "version": 3
      },
      "file_extension": ".py",
      "mimetype": "text/x-python",
      "name": "python",
      "nbconvert_exporter": "python",
      "pygments_lexer": "ipython3",
      "version": "3.8"
    },
    "kernelspec": {
      "name": "python",
      "display_name": "Pyolite",
      "language": "python"
    }
  },
  "nbformat_minor": 4,
  "nbformat": 4,
  "cells": [
    {
      "cell_type": "markdown",
      "source": "# My Jupyter Notebook on Watson Studio",
      "metadata": {}
    },
    {
      "cell_type": "markdown",
      "source": "AMRITPAL SINGH\nI am currently studying in graduation.",
      "metadata": {}
    },
    {
      "cell_type": "markdown",
      "source": "I am intersted in data science because i think future is very bright in this fieled.There are lot of opportunities available having an experiance in data science.",
      "metadata": {}
    },
    {
      "cell_type": "markdown",
      "source": "### EXPLANATION\nThe following code adds two numbers and prints the resulting sum.",
      "metadata": {}
    },
    {
      "cell_type": "code",
      "source": "a=4\nb=2\nc=a+b\nprint(c)",
      "metadata": {
        "trusted": true
      },
      "execution_count": 3,
      "outputs": [
        {
          "name": "stdout",
          "text": "6\n",
          "output_type": "stream"
        }
      ]
    },
    {
      "cell_type": "markdown",
      "source": "1 HORIZONTAL RULE\n\n*** Circle\n\n*** Trianle\n\n2 BULLETED LIST\n\n-  Circle\n\n-  Triangle\n\n3 NUMBERED LIST\n\n1. Circle\n\n2. Trianle\n",
      "metadata": {}
    }
  ]
}